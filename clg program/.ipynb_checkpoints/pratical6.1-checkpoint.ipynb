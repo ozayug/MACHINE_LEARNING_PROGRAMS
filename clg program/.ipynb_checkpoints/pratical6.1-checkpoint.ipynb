{
 "cells": [
  {
   "cell_type": "code",
   "execution_count": 5,
   "id": "7679807f-8d76-42c1-860e-511d70bb485b",
   "metadata": {},
   "outputs": [],
   "source": [
    "import numpy as np \n",
    "import pandas as pd "
   ]
  },
  {
   "cell_type": "code",
   "execution_count": 15,
   "id": "f2e8ddd2-2774-47a5-92f4-31798f239e1e",
   "metadata": {},
   "outputs": [],
   "source": [
    "array=np.array([1,2,3,4,5,6,7])"
   ]
  },
  {
   "cell_type": "code",
   "execution_count": 17,
   "id": "048e3e31-5319-40eb-89a2-6c9da4f65a52",
   "metadata": {},
   "outputs": [],
   "source": [
    "pd_series=pd.Series(array)"
   ]
  },
  {
   "cell_type": "code",
   "execution_count": 19,
   "id": "586d6032-c240-41df-bb39-c5b9ee001c3a",
   "metadata": {},
   "outputs": [
    {
     "data": {
      "text/plain": [
       "0    1\n",
       "1    2\n",
       "2    3\n",
       "3    4\n",
       "4    5\n",
       "5    6\n",
       "6    7\n",
       "dtype: int64"
      ]
     },
     "execution_count": 19,
     "metadata": {},
     "output_type": "execute_result"
    }
   ],
   "source": [
    "pd_series"
   ]
  }
 ],
 "metadata": {
  "kernelspec": {
   "display_name": "Python 3 (ipykernel)",
   "language": "python",
   "name": "python3"
  },
  "language_info": {
   "codemirror_mode": {
    "name": "ipython",
    "version": 3
   },
   "file_extension": ".py",
   "mimetype": "text/x-python",
   "name": "python",
   "nbconvert_exporter": "python",
   "pygments_lexer": "ipython3",
   "version": "3.12.4"
  }
 },
 "nbformat": 4,
 "nbformat_minor": 5
}
