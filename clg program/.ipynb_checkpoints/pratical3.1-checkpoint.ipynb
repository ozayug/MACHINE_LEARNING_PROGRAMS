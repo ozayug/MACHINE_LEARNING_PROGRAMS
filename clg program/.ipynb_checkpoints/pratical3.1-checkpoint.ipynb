{
 "cells": [
  {
   "cell_type": "code",
   "execution_count": 1,
   "id": "cff08718-9c2b-4a43-b074-35a1e70b8690",
   "metadata": {},
   "outputs": [],
   "source": [
    "import numpy as np"
   ]
  },
  {
   "cell_type": "code",
   "execution_count": 5,
   "id": "010e7f16-5182-409e-b143-864a8c0cfc1f",
   "metadata": {},
   "outputs": [],
   "source": [
    "arr = np.arange(1,15)"
   ]
  },
  {
   "cell_type": "code",
   "execution_count": 11,
   "id": "87feaf4d-32b5-428b-b8a1-7e987e301b49",
   "metadata": {},
   "outputs": [
    {
     "data": {
      "text/plain": [
       "array([ 1,  2,  3,  4,  5,  6,  7,  8,  9, 10, 11, 12, 13, 14])"
      ]
     },
     "execution_count": 11,
     "metadata": {},
     "output_type": "execute_result"
    }
   ],
   "source": [
    "arr"
   ]
  },
  {
   "cell_type": "code",
   "execution_count": 7,
   "id": "e05f4727-5aa0-486d-ac0a-2f752c54e3ad",
   "metadata": {},
   "outputs": [],
   "source": [
    "new = np.split(arr,[2,6])"
   ]
  },
  {
   "cell_type": "code",
   "execution_count": 9,
   "id": "7f6c3175-4156-41b5-a701-7dba187e6862",
   "metadata": {},
   "outputs": [
    {
     "data": {
      "text/plain": [
       "[array([1, 2]), array([3, 4, 5, 6]), array([ 7,  8,  9, 10, 11, 12, 13, 14])]"
      ]
     },
     "execution_count": 9,
     "metadata": {},
     "output_type": "execute_result"
    }
   ],
   "source": [
    "new"
   ]
  },
  {
   "cell_type": "code",
   "execution_count": null,
   "id": "5cbc41d0-a752-498f-a09c-f26f85d41d2d",
   "metadata": {},
   "outputs": [],
   "source": []
  }
 ],
 "metadata": {
  "kernelspec": {
   "display_name": "Python 3 (ipykernel)",
   "language": "python",
   "name": "python3"
  },
  "language_info": {
   "codemirror_mode": {
    "name": "ipython",
    "version": 3
   },
   "file_extension": ".py",
   "mimetype": "text/x-python",
   "name": "python",
   "nbconvert_exporter": "python",
   "pygments_lexer": "ipython3",
   "version": "3.12.4"
  }
 },
 "nbformat": 4,
 "nbformat_minor": 5
}
