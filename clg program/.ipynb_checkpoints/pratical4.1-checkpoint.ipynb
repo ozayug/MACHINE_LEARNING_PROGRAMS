{
 "cells": [
  {
   "cell_type": "code",
   "execution_count": 1,
   "id": "b668711c-308a-4bed-88cb-df27a3a81c76",
   "metadata": {},
   "outputs": [],
   "source": [
    "import numpy as np"
   ]
  },
  {
   "cell_type": "code",
   "execution_count": 3,
   "id": "cf76f428-bfda-470e-9b8e-a33a61980c63",
   "metadata": {},
   "outputs": [],
   "source": [
    "array1=[30,45,23,54,33]"
   ]
  },
  {
   "cell_type": "code",
   "execution_count": 5,
   "id": "59ca0163-2f82-4925-9c8c-70890dc0f669",
   "metadata": {},
   "outputs": [],
   "source": [
    "array2=[45,66,78,90,22]"
   ]
  },
  {
   "cell_type": "code",
   "execution_count": 7,
   "id": "e91c9992-b51a-46df-8c62-7171ff01cf5d",
   "metadata": {},
   "outputs": [],
   "source": [
    "addition=np.add(array1,array2)"
   ]
  },
  {
   "cell_type": "code",
   "execution_count": 13,
   "id": "b991685f-e6d8-42d8-b6a6-d6b593101237",
   "metadata": {},
   "outputs": [
    {
     "data": {
      "text/plain": [
       "array([ 75, 111, 101, 144,  55])"
      ]
     },
     "execution_count": 13,
     "metadata": {},
     "output_type": "execute_result"
    }
   ],
   "source": [
    "addition"
   ]
  },
  {
   "cell_type": "code",
   "execution_count": 15,
   "id": "0cec8590-b1ed-4a9b-a22f-eee1d1067f6a",
   "metadata": {},
   "outputs": [],
   "source": [
    "subtraction=np.subtract(array1,array2)"
   ]
  },
  {
   "cell_type": "code",
   "execution_count": 17,
   "id": "b4349d98-bf14-4a65-8577-847da4e8f90d",
   "metadata": {},
   "outputs": [
    {
     "data": {
      "text/plain": [
       "array([-15, -21, -55, -36,  11])"
      ]
     },
     "execution_count": 17,
     "metadata": {},
     "output_type": "execute_result"
    }
   ],
   "source": [
    "subtraction"
   ]
  },
  {
   "cell_type": "code",
   "execution_count": 19,
   "id": "323bfdfd-6b24-4538-b8da-a1b6e20cc758",
   "metadata": {},
   "outputs": [],
   "source": [
    "multipliction=np.multiply(array1,array2)"
   ]
  },
  {
   "cell_type": "code",
   "execution_count": 21,
   "id": "15ff2f99-5e6c-434e-8a9d-5d7630de999c",
   "metadata": {},
   "outputs": [
    {
     "data": {
      "text/plain": [
       "array([1350, 2970, 1794, 4860,  726])"
      ]
     },
     "execution_count": 21,
     "metadata": {},
     "output_type": "execute_result"
    }
   ],
   "source": [
    "multipliction"
   ]
  },
  {
   "cell_type": "code",
   "execution_count": 23,
   "id": "6f163ee8-4a3d-4e62-8abc-debd54f2e40b",
   "metadata": {},
   "outputs": [],
   "source": [
    "division=np.divide(array1,array2)"
   ]
  },
  {
   "cell_type": "code",
   "execution_count": 27,
   "id": "89c813e2-aa47-460c-9f87-ad044a28d9fe",
   "metadata": {},
   "outputs": [
    {
     "data": {
      "text/plain": [
       "array([0.66666667, 0.68181818, 0.29487179, 0.6       , 1.5       ])"
      ]
     },
     "execution_count": 27,
     "metadata": {},
     "output_type": "execute_result"
    }
   ],
   "source": [
    "division"
   ]
  },
  {
   "cell_type": "code",
   "execution_count": null,
   "id": "37872490-f1df-4ccf-b1fd-de3129ba50cd",
   "metadata": {},
   "outputs": [],
   "source": []
  }
 ],
 "metadata": {
  "kernelspec": {
   "display_name": "Python 3 (ipykernel)",
   "language": "python",
   "name": "python3"
  },
  "language_info": {
   "codemirror_mode": {
    "name": "ipython",
    "version": 3
   },
   "file_extension": ".py",
   "mimetype": "text/x-python",
   "name": "python",
   "nbconvert_exporter": "python",
   "pygments_lexer": "ipython3",
   "version": "3.12.4"
  }
 },
 "nbformat": 4,
 "nbformat_minor": 5
}
