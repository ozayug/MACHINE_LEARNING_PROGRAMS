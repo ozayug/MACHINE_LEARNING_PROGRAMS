{
 "cells": [
  {
   "cell_type": "code",
   "execution_count": 1,
   "id": "8bdaa1d7-214a-4532-94d8-c1212b9744ff",
   "metadata": {},
   "outputs": [],
   "source": [
    "import numpy as np"
   ]
  },
  {
   "cell_type": "code",
   "execution_count": 3,
   "id": "e52d7442-49be-4c35-a1c5-e6a12702d85e",
   "metadata": {},
   "outputs": [],
   "source": [
    "array=np.array([[3,4,5],\n",
    "                [10,23,45],\n",
    "               [22,35,56]])"
   ]
  },
  {
   "cell_type": "code",
   "execution_count": 14,
   "id": "a1edb3c2-9cba-4f45-a7e3-2280b1e1be5d",
   "metadata": {},
   "outputs": [],
   "source": [
    "mean_array=np.mean(array,axis=1)"
   ]
  },
  {
   "cell_type": "code",
   "execution_count": 18,
   "id": "fa59a395-05c3-49c8-bd0b-a7975a1abee8",
   "metadata": {},
   "outputs": [
    {
     "data": {
      "text/plain": [
       "array([ 4.        , 26.        , 37.66666667])"
      ]
     },
     "execution_count": 18,
     "metadata": {},
     "output_type": "execute_result"
    }
   ],
   "source": [
    "mean_array"
   ]
  },
  {
   "cell_type": "code",
   "execution_count": 20,
   "id": "a47e2519-2b23-4c82-8eb0-a3be47b00ca6",
   "metadata": {},
   "outputs": [],
   "source": [
    "standard_array=np.std(array, axis=1)"
   ]
  },
  {
   "cell_type": "code",
   "execution_count": 22,
   "id": "c86a929a-5a8e-4e34-90b2-172e4a6b65ff",
   "metadata": {},
   "outputs": [
    {
     "data": {
      "text/plain": [
       "array([ 0.81649658, 14.44529912, 14.00793426])"
      ]
     },
     "execution_count": 22,
     "metadata": {},
     "output_type": "execute_result"
    }
   ],
   "source": [
    "standard_array"
   ]
  },
  {
   "cell_type": "code",
   "execution_count": 24,
   "id": "e9d7d7db-8f04-4b9c-9603-640aeb775228",
   "metadata": {},
   "outputs": [],
   "source": [
    "variance_array=np.var(array,axis=1)"
   ]
  },
  {
   "cell_type": "code",
   "execution_count": 28,
   "id": "ec60dc02-99c2-4db3-9efb-cc06bdcacef8",
   "metadata": {},
   "outputs": [
    {
     "data": {
      "text/plain": [
       "array([  0.66666667, 208.66666667, 196.22222222])"
      ]
     },
     "execution_count": 28,
     "metadata": {},
     "output_type": "execute_result"
    }
   ],
   "source": [
    "variance_array"
   ]
  }
 ],
 "metadata": {
  "kernelspec": {
   "display_name": "Python 3 (ipykernel)",
   "language": "python",
   "name": "python3"
  },
  "language_info": {
   "codemirror_mode": {
    "name": "ipython",
    "version": 3
   },
   "file_extension": ".py",
   "mimetype": "text/x-python",
   "name": "python",
   "nbconvert_exporter": "python",
   "pygments_lexer": "ipython3",
   "version": "3.12.4"
  }
 },
 "nbformat": 4,
 "nbformat_minor": 5
}
