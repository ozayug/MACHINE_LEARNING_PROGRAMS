{
 "cells": [
  {
   "cell_type": "code",
   "execution_count": 1,
   "id": "43c0a0b8-cfc0-4caf-b2ac-22918b285f4a",
   "metadata": {},
   "outputs": [],
   "source": [
    "import numpy as np"
   ]
  },
  {
   "cell_type": "code",
   "execution_count": 7,
   "id": "755dbbd9-03a8-45c5-9e6c-046916d74064",
   "metadata": {},
   "outputs": [],
   "source": [
    "array=np.array([4.4,4.6,9.4,3.9,1.5,5.5])"
   ]
  },
  {
   "cell_type": "code",
   "execution_count": 9,
   "id": "69a4ab9b-3060-44dd-87d1-a2bed00e1a57",
   "metadata": {},
   "outputs": [
    {
     "data": {
      "text/plain": [
       "array([4.4, 4.6, 9.4, 3.9, 1.5, 5.5])"
      ]
     },
     "execution_count": 9,
     "metadata": {},
     "output_type": "execute_result"
    }
   ],
   "source": [
    "array"
   ]
  },
  {
   "cell_type": "code",
   "execution_count": 11,
   "id": "0d4bbae7-ffcd-4013-a501-eec85ba05cff",
   "metadata": {},
   "outputs": [],
   "source": [
    "new_array=np.round(array)"
   ]
  },
  {
   "cell_type": "code",
   "execution_count": 13,
   "id": "d7c562d7-870e-4b84-bc68-6e8f2450acf1",
   "metadata": {},
   "outputs": [
    {
     "data": {
      "text/plain": [
       "array([4., 5., 9., 4., 2., 6.])"
      ]
     },
     "execution_count": 13,
     "metadata": {},
     "output_type": "execute_result"
    }
   ],
   "source": [
    "new_array"
   ]
  },
  {
   "cell_type": "code",
   "execution_count": null,
   "id": "fe696ba6-9cb5-40e3-81c2-d6f62a1c600c",
   "metadata": {},
   "outputs": [],
   "source": []
  }
 ],
 "metadata": {
  "kernelspec": {
   "display_name": "Python 3 (ipykernel)",
   "language": "python",
   "name": "python3"
  },
  "language_info": {
   "codemirror_mode": {
    "name": "ipython",
    "version": 3
   },
   "file_extension": ".py",
   "mimetype": "text/x-python",
   "name": "python",
   "nbconvert_exporter": "python",
   "pygments_lexer": "ipython3",
   "version": "3.12.4"
  }
 },
 "nbformat": 4,
 "nbformat_minor": 5
}
