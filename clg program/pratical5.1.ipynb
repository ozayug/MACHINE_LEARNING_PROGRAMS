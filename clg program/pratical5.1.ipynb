{
 "cells": [
  {
   "cell_type": "code",
   "execution_count": 1,
   "id": "f6de6501-9714-48da-bb7a-ba3a830ec40c",
   "metadata": {},
   "outputs": [],
   "source": [
    "import numpy as np"
   ]
  },
  {
   "cell_type": "code",
   "execution_count": 3,
   "id": "d128bc5d-e8a4-4a47-b172-868326c91795",
   "metadata": {},
   "outputs": [],
   "source": [
    "array=np.array([[1,2,3],\n",
    "               [4,5,6],\n",
    "               [7,8,9]])"
   ]
  },
  {
   "cell_type": "code",
   "execution_count": 5,
   "id": "5f29dbd7-4eb0-4aa1-93ef-2f656892408d",
   "metadata": {},
   "outputs": [],
   "source": [
    "flattend_array=array.flatten()"
   ]
  },
  {
   "cell_type": "code",
   "execution_count": 7,
   "id": "af09ee68-0ab9-4be7-a814-5c0f39f1dc58",
   "metadata": {},
   "outputs": [
    {
     "data": {
      "text/plain": [
       "array([1, 2, 3, 4, 5, 6, 7, 8, 9])"
      ]
     },
     "execution_count": 7,
     "metadata": {},
     "output_type": "execute_result"
    }
   ],
   "source": [
    "flattend_array"
   ]
  },
  {
   "cell_type": "code",
   "execution_count": 9,
   "id": "444bb3e1-8cf4-4dc9-8708-028f29896202",
   "metadata": {},
   "outputs": [],
   "source": [
    "max_array=np.max(flattend_array)"
   ]
  },
  {
   "cell_type": "code",
   "execution_count": 11,
   "id": "33488ed7-a20e-4bf1-8f5a-943afb70e097",
   "metadata": {},
   "outputs": [
    {
     "data": {
      "text/plain": [
       "9"
      ]
     },
     "execution_count": 11,
     "metadata": {},
     "output_type": "execute_result"
    }
   ],
   "source": [
    "max_array"
   ]
  },
  {
   "cell_type": "code",
   "execution_count": 17,
   "id": "83a62db8-71f7-4598-97dd-65c07812c04f",
   "metadata": {},
   "outputs": [],
   "source": [
    "min_array=np.min(flattend_array)"
   ]
  },
  {
   "cell_type": "code",
   "execution_count": 19,
   "id": "64ff17f5-d0a7-4591-b012-4a710a168d12",
   "metadata": {},
   "outputs": [
    {
     "data": {
      "text/plain": [
       "1"
      ]
     },
     "execution_count": 19,
     "metadata": {},
     "output_type": "execute_result"
    }
   ],
   "source": [
    "min_array"
   ]
  }
 ],
 "metadata": {
  "kernelspec": {
   "display_name": "Python 3 (ipykernel)",
   "language": "python",
   "name": "python3"
  },
  "language_info": {
   "codemirror_mode": {
    "name": "ipython",
    "version": 3
   },
   "file_extension": ".py",
   "mimetype": "text/x-python",
   "name": "python",
   "nbconvert_exporter": "python",
   "pygments_lexer": "ipython3",
   "version": "3.12.4"
  }
 },
 "nbformat": 4,
 "nbformat_minor": 5
}
