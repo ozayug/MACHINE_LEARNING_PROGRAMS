{
 "cells": [
  {
   "cell_type": "code",
   "execution_count": 1,
   "id": "70ca9411-81f5-42db-aa1f-41661864744b",
   "metadata": {},
   "outputs": [],
   "source": [
    "import pandas as pd "
   ]
  },
  {
   "cell_type": "code",
   "execution_count": 3,
   "id": "840e711c-5bd3-46ea-b336-8be7fe112e70",
   "metadata": {},
   "outputs": [],
   "source": [
    "Series=pd.Series([1,2,3,4,5,6])"
   ]
  },
  {
   "cell_type": "code",
   "execution_count": 15,
   "id": "930c00e2-3dde-4d2b-b373-fb26b3f83a4e",
   "metadata": {},
   "outputs": [],
   "source": [
    "mean_series=Series.mean()"
   ]
  },
  {
   "cell_type": "code",
   "execution_count": 20,
   "id": "2142558b-8f61-46d1-85ba-b1883cdb8405",
   "metadata": {},
   "outputs": [
    {
     "data": {
      "text/plain": [
       "3.5"
      ]
     },
     "execution_count": 20,
     "metadata": {},
     "output_type": "execute_result"
    }
   ],
   "source": [
    "mean_series"
   ]
  },
  {
   "cell_type": "code",
   "execution_count": 23,
   "id": "f2af0310-3059-4aa0-858c-f95bba12f34d",
   "metadata": {},
   "outputs": [],
   "source": [
    "standard_series=Series.std()"
   ]
  },
  {
   "cell_type": "code",
   "execution_count": 25,
   "id": "75b7489f-6801-4db7-a205-fdfdadde5604",
   "metadata": {},
   "outputs": [
    {
     "data": {
      "text/plain": [
       "1.8708286933869707"
      ]
     },
     "execution_count": 25,
     "metadata": {},
     "output_type": "execute_result"
    }
   ],
   "source": [
    "standard_series"
   ]
  }
 ],
 "metadata": {
  "kernelspec": {
   "display_name": "Python 3 (ipykernel)",
   "language": "python",
   "name": "python3"
  },
  "language_info": {
   "codemirror_mode": {
    "name": "ipython",
    "version": 3
   },
   "file_extension": ".py",
   "mimetype": "text/x-python",
   "name": "python",
   "nbconvert_exporter": "python",
   "pygments_lexer": "ipython3",
   "version": "3.12.4"
  }
 },
 "nbformat": 4,
 "nbformat_minor": 5
}
