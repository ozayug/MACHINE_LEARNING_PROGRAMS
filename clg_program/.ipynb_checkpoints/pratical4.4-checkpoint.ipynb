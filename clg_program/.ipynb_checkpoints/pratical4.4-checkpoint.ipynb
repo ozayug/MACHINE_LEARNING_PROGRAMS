{
 "cells": [
  {
   "cell_type": "code",
   "execution_count": 1,
   "id": "e0014636-9ea5-41cb-af59-788997fc28dc",
   "metadata": {},
   "outputs": [],
   "source": [
    "import numpy as np "
   ]
  },
  {
   "cell_type": "code",
   "execution_count": 9,
   "id": "6b548eac-01bd-4010-8359-6062559144ac",
   "metadata": {},
   "outputs": [],
   "source": [
    "array=np.array([10,20,30,47,55,65])"
   ]
  },
  {
   "cell_type": "code",
   "execution_count": 11,
   "id": "5ccdca33-dcfc-4a01-a14b-0cc32bda31e9",
   "metadata": {},
   "outputs": [],
   "source": [
    "new_array=np.diff(array)"
   ]
  },
  {
   "cell_type": "code",
   "execution_count": 13,
   "id": "695617f3-e300-4117-a1ab-8fb9608ee538",
   "metadata": {},
   "outputs": [
    {
     "data": {
      "text/plain": [
       "array([10, 10, 17,  8, 10])"
      ]
     },
     "execution_count": 13,
     "metadata": {},
     "output_type": "execute_result"
    }
   ],
   "source": [
    "new_array"
   ]
  }
 ],
 "metadata": {
  "kernelspec": {
   "display_name": "Python 3 (ipykernel)",
   "language": "python",
   "name": "python3"
  },
  "language_info": {
   "codemirror_mode": {
    "name": "ipython",
    "version": 3
   },
   "file_extension": ".py",
   "mimetype": "text/x-python",
   "name": "python",
   "nbconvert_exporter": "python",
   "pygments_lexer": "ipython3",
   "version": "3.12.4"
  }
 },
 "nbformat": 4,
 "nbformat_minor": 5
}
