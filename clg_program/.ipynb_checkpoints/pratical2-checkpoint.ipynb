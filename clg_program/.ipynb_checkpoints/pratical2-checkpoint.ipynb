{
 "cells": [
  {
   "cell_type": "markdown",
   "id": "5dd38074-a9fb-481b-9567-633c037d3187",
   "metadata": {},
   "source": [
    "# <font color='black'>Title : ****Lab Manual Pratical 2****</font>"
   ]
  },
  {
   "cell_type": "markdown",
   "id": "c8b6ff74-c80a-4958-8b49-deaae5b51d5b",
   "metadata": {},
   "source": [
    "# <font color='black'> create one dimensional array</font>"
   ]
  },
  {
   "cell_type": "code",
   "execution_count": 3,
   "id": "da6e5589-4d98-4b00-ba2e-074a86dfdeb6",
   "metadata": {},
   "outputs": [],
   "source": [
    "import numpy as np"
   ]
  },
  {
   "cell_type": "code",
   "execution_count": 4,
   "id": "cfd573ea-46b6-401c-a201-61e7a986da8e",
   "metadata": {},
   "outputs": [],
   "source": [
    "list=[20,40,60,80,100]"
   ]
  },
  {
   "cell_type": "code",
   "execution_count": 5,
   "id": "9edae3b3-d918-4f78-a51e-9549dd34816a",
   "metadata": {},
   "outputs": [],
   "source": [
    "array=np.array(list)"
   ]
  },
  {
   "cell_type": "code",
   "execution_count": 6,
   "id": "41cc1009-4b01-4b70-842a-6051a165df43",
   "metadata": {},
   "outputs": [
    {
     "data": {
      "text/plain": [
       "array([ 20,  40,  60,  80, 100])"
      ]
     },
     "execution_count": 6,
     "metadata": {},
     "output_type": "execute_result"
    }
   ],
   "source": [
    "array"
   ]
  },
  {
   "cell_type": "markdown",
   "id": "0bc5ca0b-139a-4422-a303-80a33f8ae67d",
   "metadata": {},
   "source": [
    "# <font color='black'> create 3x3 matrix range 2 to 10</font>"
   ]
  },
  {
   "cell_type": "code",
   "execution_count": 8,
   "id": "2c14398b-cdd1-4a2f-99ec-f04a86402128",
   "metadata": {},
   "outputs": [],
   "source": [
    "matrix= np.arange(2, 11).reshape(3, 3)"
   ]
  },
  {
   "cell_type": "code",
   "execution_count": 15,
   "id": "a0e89cf7-dd4b-43a4-a28f-c3ba924df8be",
   "metadata": {},
   "outputs": [
    {
     "data": {
      "text/plain": [
       "array([[ 2,  3,  4],\n",
       "       [ 5,  6,  7],\n",
       "       [ 8,  9, 10]])"
      ]
     },
     "execution_count": 15,
     "metadata": {},
     "output_type": "execute_result"
    }
   ],
   "source": [
    "matrix"
   ]
  },
  {
   "cell_type": "markdown",
   "id": "41d46679-eb20-4410-adc9-becddc443fd8",
   "metadata": {},
   "source": [
    "# <font color='black'> append value end  of an array<font>"
   ]
  },
  {
   "cell_type": "code",
   "execution_count": 19,
   "id": "81175722-fe6f-4de6-bc46-f56af2507143",
   "metadata": {},
   "outputs": [],
   "source": [
    "array1= np.array([1, 2, 3])\n",
    "array2= np.array([4, 5, 6])\n",
    "final_array=np.append(array1,array2)"
   ]
  },
  {
   "cell_type": "code",
   "execution_count": 21,
   "id": "df451af6-87e2-4c20-9b98-b07207ec99eb",
   "metadata": {},
   "outputs": [
    {
     "data": {
      "text/plain": [
       "array([1, 2, 3, 4, 5, 6])"
      ]
     },
     "execution_count": 21,
     "metadata": {},
     "output_type": "execute_result"
    }
   ],
   "source": [
    "final_array"
   ]
  },
  {
   "cell_type": "markdown",
   "id": "8d804537-5370-4a8d-bea1-634ef445afc3",
   "metadata": {},
   "source": [
    "# <font color='black'> create another shape array without changing data (3x2 to 2x3)<font>"
   ]
  },
  {
   "cell_type": "code",
   "execution_count": 26,
   "id": "a4f397a7-604c-4d5b-aa77-35702395e6df",
   "metadata": {},
   "outputs": [],
   "source": [
    "array3= np.array([[1, 2], [3, 4], [5, 6]])\n",
    "reshape= array3.reshape(2, 3)"
   ]
  },
  {
   "cell_type": "code",
   "execution_count": 28,
   "id": "2ed6f6d8-f882-4e82-b783-cf50932136a3",
   "metadata": {},
   "outputs": [
    {
     "data": {
      "text/plain": [
       "array([[1, 2, 3],\n",
       "       [4, 5, 6]])"
      ]
     },
     "execution_count": 28,
     "metadata": {},
     "output_type": "execute_result"
    }
   ],
   "source": [
    "reshape"
   ]
  }
 ],
 "metadata": {
  "kernelspec": {
   "display_name": "Python 3 (ipykernel)",
   "language": "python",
   "name": "python3"
  },
  "language_info": {
   "codemirror_mode": {
    "name": "ipython",
    "version": 3
   },
   "file_extension": ".py",
   "mimetype": "text/x-python",
   "name": "python",
   "nbconvert_exporter": "python",
   "pygments_lexer": "ipython3",
   "version": "3.12.4"
  }
 },
 "nbformat": 4,
 "nbformat_minor": 5
}
