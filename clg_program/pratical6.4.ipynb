{
 "cells": [
  {
   "cell_type": "code",
   "execution_count": 1,
   "id": "c4217a94-d6f8-493f-a48f-1c203f78519f",
   "metadata": {},
   "outputs": [],
   "source": [
    "import pandas as pd "
   ]
  },
  {
   "cell_type": "code",
   "execution_count": 15,
   "id": "f351e411-4468-4e0b-9491-ed72bf5a4512",
   "metadata": {},
   "outputs": [],
   "source": [
    "Series=pd.Series([1,2,4,55,67,33,7])"
   ]
  },
  {
   "cell_type": "code",
   "execution_count": 17,
   "id": "4c88fb9a-4bf6-431c-9cc1-a0b9a453f3f1",
   "metadata": {},
   "outputs": [],
   "source": [
    "sort_series=Series.sort_values()"
   ]
  },
  {
   "cell_type": "code",
   "execution_count": 19,
   "id": "ece734a9-a82c-440e-940f-22f1c891fcfd",
   "metadata": {},
   "outputs": [
    {
     "data": {
      "text/plain": [
       "0     1\n",
       "1     2\n",
       "2     4\n",
       "6     7\n",
       "5    33\n",
       "3    55\n",
       "4    67\n",
       "dtype: int64"
      ]
     },
     "execution_count": 19,
     "metadata": {},
     "output_type": "execute_result"
    }
   ],
   "source": [
    "sort_series"
   ]
  }
 ],
 "metadata": {
  "kernelspec": {
   "display_name": "Python 3 (ipykernel)",
   "language": "python",
   "name": "python3"
  },
  "language_info": {
   "codemirror_mode": {
    "name": "ipython",
    "version": 3
   },
   "file_extension": ".py",
   "mimetype": "text/x-python",
   "name": "python",
   "nbconvert_exporter": "python",
   "pygments_lexer": "ipython3",
   "version": "3.12.4"
  }
 },
 "nbformat": 4,
 "nbformat_minor": 5
}
